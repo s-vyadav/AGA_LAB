{
  "nbformat": 4,
  "nbformat_minor": 0,
  "metadata": {
    "colab": {
      "provenance": []
    },
    "kernelspec": {
      "name": "python3",
      "display_name": "Python 3"
    },
    "language_info": {
      "name": "python"
    }
  },
  "cells": [
    {
      "cell_type": "code",
      "source": [
        "import numpy as np\n",
        "from sklearn.datasets import load_breast_cancer\n",
        "from sklearn.neural_network import BernoulliRBM\n",
        "from sklearn.linear_model import LogisticRegression\n",
        "from sklearn.model_selection import train_test_split\n",
        "from sklearn.metrics import accuracy_score\n",
        "\n",
        "# Load Breast Cancer Dataset\n",
        "data = load_breast_cancer()\n",
        "X, y = data.data, data.target\n",
        "\n",
        "# Normalize the dataset\n",
        "X = X / np.max(X, axis=0)\n",
        "\n",
        "# Train-Test Split\n",
        "X_train, X_test, y_train, y_test = train_test_split(X, y, test_size=0.2, random_state=42)\n",
        "\n",
        "# Train RBM for feature extraction\n",
        "rbm = BernoulliRBM(n_components=10, learning_rate=0.1, n_iter=10, random_state=42)\n",
        "rbm.fit(X_train)\n",
        "\n",
        "# Transform data using trained RBM\n",
        "X_train_transformed = rbm.transform(X_train)\n",
        "X_test_transformed = rbm.transform(X_test)\n",
        "\n",
        "# Train a classifier on extracted features\n",
        "classifier = LogisticRegression(max_iter=1000, solver='lbfgs', random_state=42)\n",
        "classifier.fit(X_train_transformed, y_train)\n",
        "\n",
        "# Predict and evaluate\n",
        "y_pred = classifier.predict(X_test_transformed)\n",
        "accuracy = accuracy_score(y_test, y_pred)\n",
        "\n",
        "# Print sample results\n",
        "print(\"Original Sample Input (First 3 X_test Samples):\")\n",
        "print(X_test[:3])  # Show first 3 samples\n",
        "\n",
        "print(\"\\nExtracted Features from RBM (First 3 Samples):\")\n",
        "print(X_test_transformed[:3])  # Show transformed features\n",
        "\n",
        "print(\"\\nPredicted Labels (First 3 Samples):\", y_pred[:3])\n",
        "print(\"True Labels (First 3 Samples):\", y_test[:3])\n",
        "\n",
        "print(f\"\\nClassification Accuracy: {accuracy:.4f}\")\n"
      ],
      "metadata": {
        "colab": {
          "base_uri": "https://localhost:8080/"
        },
        "id": "IDIikV0rSaF4",
        "outputId": "ae061680-4d25-4d24-ac5a-5e366125275f"
      },
      "execution_count": 5,
      "outputs": [
        {
          "output_type": "stream",
          "name": "stdout",
          "text": [
            "Original Sample Input (First 3 X_test Samples):\n",
            "[[0.44361437 0.47352342 0.43018568 0.19268293 0.60985312 0.30631152\n",
            "  0.18755858 0.18991054 0.63322368 0.65404351 0.13786982 0.21371546\n",
            "  0.11360328 0.05586499 0.22335368 0.14113737 0.06820707 0.19643872\n",
            "  0.22571248 0.12017426 0.41537181 0.49737586 0.38236465 0.1593559\n",
            "  0.64061096 0.22476371 0.21333866 0.34879725 0.45405243 0.42168675]\n",
            " [0.67378157 0.54251527 0.65570292 0.45181927 0.55134639 0.29791546\n",
            "  0.25304592 0.39517893 0.52039474 0.56044745 0.27455621 0.16325486\n",
            "  0.24959054 0.17714865 0.14275618 0.12200886 0.05729798 0.25951885\n",
            "  0.17555415 0.05690349 0.68978912 0.53653613 0.66042994 0.43864598\n",
            "  0.5359389  0.22079395 0.21461661 0.61477663 0.3843025  0.31754217]\n",
            " [0.54998221 0.49592668 0.53952255 0.29944022 0.66829865 0.35408222\n",
            "  0.34348641 0.40193837 0.63519737 0.59482759 0.16508876 0.16088025\n",
            "  0.14076433 0.08909996 0.20044973 0.10960118 0.07103535 0.20704679\n",
            "  0.17694744 0.08247319 0.53440622 0.52482842 0.49721338 0.27174424\n",
            "  0.69451932 0.22627599 0.30279553 0.52027491 0.42738777 0.38645783]]\n",
            "\n",
            "Extracted Features from RBM (First 3 Samples):\n",
            "[[0.26371052 0.25893183 0.25950446 0.25701929 0.25971053 0.25966468\n",
            "  0.26018472 0.26021023 0.25483178 0.25873405]\n",
            " [0.19124649 0.1856972  0.18729998 0.18407349 0.18605752 0.18700845\n",
            "  0.18775435 0.18716406 0.18176921 0.1860549 ]\n",
            " [0.21860572 0.21277066 0.21426778 0.21111628 0.21345381 0.21428944\n",
            "  0.21485322 0.21431288 0.20862109 0.21307854]]\n",
            "\n",
            "Predicted Labels (First 3 Samples): [1 0 0]\n",
            "True Labels (First 3 Samples): [1 0 0]\n",
            "\n",
            "Classification Accuracy: 0.9123\n"
          ]
        }
      ]
    },
    {
      "cell_type": "code",
      "source": [],
      "metadata": {
        "id": "UksY1o0fVDIR"
      },
      "execution_count": null,
      "outputs": []
    }
  ]
}